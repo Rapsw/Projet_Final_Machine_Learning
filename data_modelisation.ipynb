{
 "cells": [
  {
   "cell_type": "code",
   "execution_count": 1,
   "metadata": {},
   "outputs": [],
   "source": [
    "\n",
    "from sklearn.linear_model import LinearRegression"
   ]
  },
  {
   "cell_type": "code",
   "execution_count": 2,
   "metadata": {},
   "outputs": [
    {
     "ename": "NameError",
     "evalue": "name 'X' is not defined",
     "output_type": "error",
     "traceback": [
      "\u001b[0;31m---------------------------------------------------------------------------\u001b[0m",
      "\u001b[0;31mNameError\u001b[0m                                 Traceback (most recent call last)",
      "\u001b[1;32m/home/rapsw/Documents/Tech IA/Machine Learning/Projet_Final/data_modelisation.ipynb Cellule 2\u001b[0m in \u001b[0;36m<cell line: 3>\u001b[0;34m()\u001b[0m\n\u001b[1;32m      <a href='vscode-notebook-cell:/home/rapsw/Documents/Tech%20IA/Machine%20Learning/Projet_Final/data_modelisation.ipynb#ch0000002?line=0'>1</a>\u001b[0m \u001b[39m# Coefficient de détermination ( R2 carré)\u001b[39;00m\n\u001b[1;32m      <a href='vscode-notebook-cell:/home/rapsw/Documents/Tech%20IA/Machine%20Learning/Projet_Final/data_modelisation.ipynb#ch0000002?line=1'>2</a>\u001b[0m model \u001b[39m=\u001b[39m LinearRegression()\n\u001b[0;32m----> <a href='vscode-notebook-cell:/home/rapsw/Documents/Tech%20IA/Machine%20Learning/Projet_Final/data_modelisation.ipynb#ch0000002?line=2'>3</a>\u001b[0m model\u001b[39m.\u001b[39mfit(X, y)  \u001b[39m# entrainer\u001b[39;00m\n\u001b[1;32m      <a href='vscode-notebook-cell:/home/rapsw/Documents/Tech%20IA/Machine%20Learning/Projet_Final/data_modelisation.ipynb#ch0000002?line=3'>4</a>\u001b[0m model\u001b[39m.\u001b[39mscore(X, y)  \u001b[39m# evaluer \u001b[39;00m\n\u001b[1;32m      <a href='vscode-notebook-cell:/home/rapsw/Documents/Tech%20IA/Machine%20Learning/Projet_Final/data_modelisation.ipynb#ch0000002?line=4'>5</a>\u001b[0m model\u001b[39m.\u001b[39mpredict(X)\n",
      "\u001b[0;31mNameError\u001b[0m: name 'X' is not defined"
     ]
    }
   ],
   "source": [
    "# Coefficient de détermination ( R2 carré)\n",
    "model = LinearRegression()\n",
    "model.fit(X, y)  # entrainer\n",
    "model.score(X, y)  # evaluer \n",
    "model.predict(X) # nouvelles predictions"
   ]
  }
 ],
 "metadata": {
  "kernelspec": {
   "display_name": "Python 3.9.12 ('base')",
   "language": "python",
   "name": "python3"
  },
  "language_info": {
   "codemirror_mode": {
    "name": "ipython",
    "version": 3
   },
   "file_extension": ".py",
   "mimetype": "text/x-python",
   "name": "python",
   "nbconvert_exporter": "python",
   "pygments_lexer": "ipython3",
   "version": "3.9.12"
  },
  "orig_nbformat": 4,
  "vscode": {
   "interpreter": {
    "hash": "5dd2b1bbb0e4f9433dc1b63b432738c8a8db2ba17859a8c16a5e350bea67d451"
   }
  }
 },
 "nbformat": 4,
 "nbformat_minor": 2
}
