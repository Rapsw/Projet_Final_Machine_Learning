{
 "cells": [
  {
   "cell_type": "code",
   "execution_count": 13,
   "metadata": {},
   "outputs": [
    {
     "ename": "ModuleNotFoundError",
     "evalue": "No module named 'sklearn'",
     "output_type": "error",
     "traceback": [
      "\u001b[0;31m---------------------------------------------------------------------------\u001b[0m",
      "\u001b[0;31mModuleNotFoundError\u001b[0m                       Traceback (most recent call last)",
      "\u001b[1;32m/home/rapsw/Documents/Tech IA/Machine Learning/Projet_Final/data_modelisation.ipynb Cellule 1\u001b[0m in \u001b[0;36m<cell line: 1>\u001b[0;34m()\u001b[0m\n\u001b[0;32m----> <a href='vscode-notebook-cell:/home/rapsw/Documents/Tech%20IA/Machine%20Learning/Projet_Final/data_modelisation.ipynb#ch0000001?line=0'>1</a>\u001b[0m \u001b[39mfrom\u001b[39;00m \u001b[39msklearn\u001b[39;00m\u001b[39m.\u001b[39;00m\u001b[39mlinear_model\u001b[39;00m \u001b[39mimport\u001b[39;00m LinearRegression\n",
      "\u001b[0;31mModuleNotFoundError\u001b[0m: No module named 'sklearn'"
     ]
    }
   ],
   "source": [
    "\n",
    "from sklearn.linear_model import LinearRegression"
   ]
  },
  {
   "cell_type": "code",
   "execution_count": null,
   "metadata": {},
   "outputs": [
    {
     "ename": "NameError",
     "evalue": "name 'LinearRegression' is not defined",
     "output_type": "error",
     "traceback": [
      "\u001b[0;31m---------------------------------------------------------------------------\u001b[0m",
      "\u001b[0;31mNameError\u001b[0m                                 Traceback (most recent call last)",
      "\u001b[1;32m/home/rapsw/Documents/Tech IA/Machine Learning/Projet_Final/data_modelisation.ipynb Cellule 2\u001b[0m in \u001b[0;36m<cell line: 1>\u001b[0;34m()\u001b[0m\n\u001b[0;32m----> <a href='vscode-notebook-cell:/home/rapsw/Documents/Tech%20IA/Machine%20Learning/Projet_Final/data_modelisation.ipynb#ch0000002?line=0'>1</a>\u001b[0m model \u001b[39m=\u001b[39m LinearRegression()\n\u001b[1;32m      <a href='vscode-notebook-cell:/home/rapsw/Documents/Tech%20IA/Machine%20Learning/Projet_Final/data_modelisation.ipynb#ch0000002?line=1'>2</a>\u001b[0m model\u001b[39m.\u001b[39mfit(X, y)\n\u001b[1;32m      <a href='vscode-notebook-cell:/home/rapsw/Documents/Tech%20IA/Machine%20Learning/Projet_Final/data_modelisation.ipynb#ch0000002?line=2'>3</a>\u001b[0m model\u001b[39m.\u001b[39mscore(X, y)\n",
      "\u001b[0;31mNameError\u001b[0m: name 'LinearRegression' is not defined"
     ]
    }
   ],
   "source": [
    "# Coefficient de détermination ( R2 carré)\n",
    "model = LinearRegression()\n",
    "model.fit(X, y)  # entrainer\n",
    "model.score(X, y)  # evaluer \n",
    "model.predict(X) # nouvelles predictions"
   ]
  }
 ],
 "metadata": {
  "kernelspec": {
   "display_name": "Python 3.10.4 ('rcc')",
   "language": "python",
   "name": "python3"
  },
  "language_info": {
   "codemirror_mode": {
    "name": "ipython",
    "version": 3
   },
   "file_extension": ".py",
   "mimetype": "text/x-python",
   "name": "python",
   "nbconvert_exporter": "python",
   "pygments_lexer": "ipython3",
   "version": "3.10.4"
  },
  "orig_nbformat": 4,
  "vscode": {
   "interpreter": {
    "hash": "79a42449223e8a2cac61c9fc50c4c12a212027703ce42d3a4338b5dd5fa5a691"
   }
  }
 },
 "nbformat": 4,
 "nbformat_minor": 2
}
