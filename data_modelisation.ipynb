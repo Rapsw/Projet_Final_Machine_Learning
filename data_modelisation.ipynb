{
 "cells": [
  {
   "cell_type": "code",
   "execution_count": null,
   "metadata": {},
   "outputs": [],
   "source": []
  }
 ],
 "metadata": {
  "kernelspec": {
   "display_name": "Python 3.10.4 ('rcc')",
   "language": "python",
   "name": "python3"
  },
  "language_info": {
   "name": "python",
   "version": "3.10.4"
  },
  "orig_nbformat": 4,
  "vscode": {
   "interpreter": {
    "hash": "79a42449223e8a2cac61c9fc50c4c12a212027703ce42d3a4338b5dd5fa5a691"
   }
  }
 },
 "nbformat": 4,
 "nbformat_minor": 2
}
