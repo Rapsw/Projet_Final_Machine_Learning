{
 "cells": [
  {
   "cell_type": "code",
   "execution_count": null,
   "metadata": {},
   "outputs": [],
   "source": []
  }
 ],
 "metadata": {
  "kernelspec": {
   "display_name": "Python 3.9.12 ('base')",
   "language": "python",
   "name": "python3"
  },
  "language_info": {
   "name": "python",
   "version": "3.9.12"
  },
  "orig_nbformat": 4,
  "vscode": {
   "interpreter": {
    "hash": "5dd2b1bbb0e4f9433dc1b63b432738c8a8db2ba17859a8c16a5e350bea67d451"
   }
  }
 },
 "nbformat": 4,
 "nbformat_minor": 2
}
